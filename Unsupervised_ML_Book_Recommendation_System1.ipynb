{
  "nbformat": 4,
  "nbformat_minor": 0,
  "metadata": {
    "colab": {
      "provenance": [],
      "collapsed_sections": [
        "9edtHcJNghNJ",
        "_56oRJopPPTw",
        "SeoNuV9PvmLN"
      ],
      "include_colab_link": true
    },
    "kernelspec": {
      "name": "python3",
      "display_name": "Python 3"
    },
    "language_info": {
      "name": "python"
    }
  },
  "cells": [
    {
      "cell_type": "markdown",
      "metadata": {
        "id": "view-in-github",
        "colab_type": "text"
      },
      "source": [
        "<a href=\"https://colab.research.google.com/github/Naveen-King/Book-Recommendation-System/blob/main/Unsupervised_ML_Book_Recommendation_System1.ipynb\" target=\"_parent\"><img src=\"https://colab.research.google.com/assets/colab-badge.svg\" alt=\"Open In Colab\"/></a>"
      ]
    },
    {
      "cell_type": "markdown",
      "source": [
        "#**<font size=\"+3\" color='#053c40'><b> Book Recommendation System </b></font>**\n",
        "\n",
        "---\n",
        "\n",
        "\n",
        "#<font size=\"+2\" color='#053c96'><b> About this Project </b></font>\n",
        "\n",
        "This is a Unsupervised Machine Learning Capstone Project, which is part of AlmaBetter's Data Science Pro Program Curriculum.\n",
        "\n",
        "\n",
        "---\n",
        "\n",
        "#<font size=\"+2\" color='#053c96'><b> Problem Statement </b></font>\n",
        "\n",
        "In a very general way, recommender systems are algorithms aimed at suggesting relevant items to users (items being movies to watch, text to read, products to buy, or anything else depending on industries).\n",
        "Recommender systems are really critical in some industries as they can generate a huge amount of income when they are efficient or also be a way to stand out significantly from\n",
        "competitors. \n",
        "\n",
        "The main objective is to create a book recommendation system for users.\n",
        "\n",
        "\n",
        "---\n",
        "\n",
        "#<font size=\"+2\" color='#053c96'><b> Understanding the Data </b></font>\n",
        "\n",
        "The Book-Crossing dataset comprises 3 files:\n",
        "\n",
        "● Users\n",
        "\n",
        "Contains the users. Note that user IDs (User-ID) have been anonymized and map to\n",
        "integers. Demographic data is provided (Location, Age) if available. Otherwise, these\n",
        "fields contain NULL values.\n",
        "\n",
        "● Books\n",
        "\n",
        "Books are identified by their respective ISBN. Invalid ISBNs have already been removed\n",
        "from the dataset. Moreover, some content-based information is given (Book-Title,\n",
        "Book-Author, Year-Of-Publication, Publisher), obtained from Amazon Web\n",
        "Services. Note that in the case of several authors, only the first is provided. URLs linking\n",
        "to cover images are also given, appearing in three different flavors (Image-URL-S,\n",
        "Image-URL-M, Image-URL-L), i.e., small, medium, large. These URLs point to the\n",
        "Amazon website.\n",
        "\n",
        "● Ratings\n",
        "\n",
        "Contains the book rating information. Ratings (Book-Rating) are either explicit,\n",
        "expressed on a scale from 1-10 (higher values denoting higher appreciation), or implicit,\n",
        "expressed by 0.\n",
        "\n",
        "---\n",
        "\n",
        "#<font size=\"+2\" color='#053c96'><b> Project Workflow </b></font>\n",
        "\n",
        "1. Importing Libraries\n",
        "\n",
        "2. Loading the Dataset\n",
        "\n",
        "3. Data Cleaning\n",
        "\n",
        "4. Feature Engineering\n",
        "\n",
        "5. EDA \n",
        "\n",
        "6. Building Recommender System"
      ],
      "metadata": {
        "id": "JVMnwSymnCpR"
      }
    },
    {
      "cell_type": "markdown",
      "source": [
        "# **1. Importing Libraries**"
      ],
      "metadata": {
        "id": "-jYSGqvarjWU"
      }
    },
    {
      "cell_type": "code",
      "source": [
        "from google.colab import drive\n",
        "drive.mount('/content/drive')"
      ],
      "metadata": {
        "colab": {
          "base_uri": "https://localhost:8080/"
        },
        "id": "iDYx0QpuDZB3",
        "outputId": "2dd8f09d-c90c-450f-da08-26c61ea9c6e7"
      },
      "execution_count": 1,
      "outputs": [
        {
          "output_type": "stream",
          "name": "stdout",
          "text": [
            "Mounted at /content/drive\n"
          ]
        }
      ]
    },
    {
      "cell_type": "code",
      "source": [
        "from __future__ import print_function"
      ],
      "metadata": {
        "id": "uJ-tt0ecE66I"
      },
      "execution_count": 2,
      "outputs": []
    },
    {
      "cell_type": "code",
      "execution_count": 3,
      "metadata": {
        "id": "Zn7xuULmmxwk"
      },
      "outputs": [],
      "source": [
        "#importing the necessary libraries\n",
        "import pandas as pd \n",
        "import numpy as np\n",
        "import seaborn as sns\n",
        "import matplotlib.pyplot as plt\n",
        "import numpy as np\n",
        "import scipy\n",
        "import pandas as pd\n",
        "import math\n",
        "import random\n",
        "import sklearn\n",
        "from nltk.corpus import stopwords\n",
        "from sklearn.model_selection import train_test_split\n",
        "from sklearn.feature_extraction.text import TfidfVectorizer\n",
        "from sklearn.metrics.pairwise import cosine_similarity\n",
        "from scipy.sparse.linalg import svds\n",
        "import matplotlib.pyplot as plt\n",
        "from ipywidgets import interact, interactive, fixed, interact_manual\n",
        "import ipywidgets as widgets\n",
        "from scipy.sparse import csr_matrix\n",
        "from sklearn.neighbors import NearestNeighbors\n",
        "from sklearn import preprocessing\n",
        "from sklearn.model_selection import train_test_split\n",
        "import nltk\n",
        "import string\n",
        "from nltk.corpus import stopwords\n",
        "from nltk.corpus import words\n",
        "from nltk.stem import WordNetLemmatizer\n",
        "from sklearn.feature_extraction.text import TfidfVectorizer\n",
        "from sklearn.metrics.pairwise import cosine_similarity\n",
        "\n"
      ]
    },
    {
      "cell_type": "code",
      "source": [
        "# Read in the datasets\n",
        "df_books = pd.read_csv('/content/drive/MyDrive/Capstone Project/Books.csv')\n",
        "df_ratings = pd.read_csv('/content/drive/MyDrive/Capstone Project/Books_Ratings.csv')\n",
        "df_user = pd.read_csv('/content/drive/MyDrive/Capstone Project/Books_Users.csv')"
      ],
      "metadata": {
        "colab": {
          "base_uri": "https://localhost:8080/"
        },
        "id": "hsfalrc6vuzP",
        "outputId": "b7eefdf2-5b5e-45a9-86f5-2cd88bd14e8d"
      },
      "execution_count": 4,
      "outputs": [
        {
          "output_type": "error",
          "ename": "FileNotFoundError",
          "evalue": "ignored",
          "traceback": [
            "\u001b[0;31m---------------------------------------------------------------------------\u001b[0m",
            "\u001b[0;31mFileNotFoundError\u001b[0m                         Traceback (most recent call last)",
            "\u001b[0;32m<ipython-input-4-033fd616cc42>\u001b[0m in \u001b[0;36m<module>\u001b[0;34m\u001b[0m\n\u001b[1;32m      1\u001b[0m \u001b[0;31m# Read in the datasets\u001b[0m\u001b[0;34m\u001b[0m\u001b[0;34m\u001b[0m\u001b[0;34m\u001b[0m\u001b[0m\n\u001b[0;32m----> 2\u001b[0;31m \u001b[0mdf_books\u001b[0m \u001b[0;34m=\u001b[0m \u001b[0mpd\u001b[0m\u001b[0;34m.\u001b[0m\u001b[0mread_csv\u001b[0m\u001b[0;34m(\u001b[0m\u001b[0;34m'/content/drive/MyDrive/Book Recommendation System - Shantanu Houzwala/data/Books.csv'\u001b[0m\u001b[0;34m)\u001b[0m\u001b[0;34m\u001b[0m\u001b[0;34m\u001b[0m\u001b[0m\n\u001b[0m\u001b[1;32m      3\u001b[0m \u001b[0mdf_ratings\u001b[0m \u001b[0;34m=\u001b[0m \u001b[0mpd\u001b[0m\u001b[0;34m.\u001b[0m\u001b[0mread_csv\u001b[0m\u001b[0;34m(\u001b[0m\u001b[0;34m'/content/drive/MyDrive/Book Recommendation System - Shantanu Houzwala/data/Ratings.csv'\u001b[0m\u001b[0;34m)\u001b[0m\u001b[0;34m\u001b[0m\u001b[0;34m\u001b[0m\u001b[0m\n\u001b[1;32m      4\u001b[0m \u001b[0mdf_user\u001b[0m \u001b[0;34m=\u001b[0m \u001b[0mpd\u001b[0m\u001b[0;34m.\u001b[0m\u001b[0mread_csv\u001b[0m\u001b[0;34m(\u001b[0m\u001b[0;34m'/content/drive/MyDrive/Book Recommendation System - Shantanu Houzwala/data/Users.csv'\u001b[0m\u001b[0;34m)\u001b[0m\u001b[0;34m\u001b[0m\u001b[0;34m\u001b[0m\u001b[0m\n",
            "\u001b[0;32m/usr/local/lib/python3.8/dist-packages/pandas/util/_decorators.py\u001b[0m in \u001b[0;36mwrapper\u001b[0;34m(*args, **kwargs)\u001b[0m\n\u001b[1;32m    309\u001b[0m                     \u001b[0mstacklevel\u001b[0m\u001b[0;34m=\u001b[0m\u001b[0mstacklevel\u001b[0m\u001b[0;34m,\u001b[0m\u001b[0;34m\u001b[0m\u001b[0;34m\u001b[0m\u001b[0m\n\u001b[1;32m    310\u001b[0m                 )\n\u001b[0;32m--> 311\u001b[0;31m             \u001b[0;32mreturn\u001b[0m \u001b[0mfunc\u001b[0m\u001b[0;34m(\u001b[0m\u001b[0;34m*\u001b[0m\u001b[0margs\u001b[0m\u001b[0;34m,\u001b[0m \u001b[0;34m**\u001b[0m\u001b[0mkwargs\u001b[0m\u001b[0;34m)\u001b[0m\u001b[0;34m\u001b[0m\u001b[0;34m\u001b[0m\u001b[0m\n\u001b[0m\u001b[1;32m    312\u001b[0m \u001b[0;34m\u001b[0m\u001b[0m\n\u001b[1;32m    313\u001b[0m         \u001b[0;32mreturn\u001b[0m \u001b[0mwrapper\u001b[0m\u001b[0;34m\u001b[0m\u001b[0;34m\u001b[0m\u001b[0m\n",
            "\u001b[0;32m/usr/local/lib/python3.8/dist-packages/pandas/io/parsers/readers.py\u001b[0m in \u001b[0;36mread_csv\u001b[0;34m(filepath_or_buffer, sep, delimiter, header, names, index_col, usecols, squeeze, prefix, mangle_dupe_cols, dtype, engine, converters, true_values, false_values, skipinitialspace, skiprows, skipfooter, nrows, na_values, keep_default_na, na_filter, verbose, skip_blank_lines, parse_dates, infer_datetime_format, keep_date_col, date_parser, dayfirst, cache_dates, iterator, chunksize, compression, thousands, decimal, lineterminator, quotechar, quoting, doublequote, escapechar, comment, encoding, encoding_errors, dialect, error_bad_lines, warn_bad_lines, on_bad_lines, delim_whitespace, low_memory, memory_map, float_precision, storage_options)\u001b[0m\n\u001b[1;32m    584\u001b[0m     \u001b[0mkwds\u001b[0m\u001b[0;34m.\u001b[0m\u001b[0mupdate\u001b[0m\u001b[0;34m(\u001b[0m\u001b[0mkwds_defaults\u001b[0m\u001b[0;34m)\u001b[0m\u001b[0;34m\u001b[0m\u001b[0;34m\u001b[0m\u001b[0m\n\u001b[1;32m    585\u001b[0m \u001b[0;34m\u001b[0m\u001b[0m\n\u001b[0;32m--> 586\u001b[0;31m     \u001b[0;32mreturn\u001b[0m \u001b[0m_read\u001b[0m\u001b[0;34m(\u001b[0m\u001b[0mfilepath_or_buffer\u001b[0m\u001b[0;34m,\u001b[0m \u001b[0mkwds\u001b[0m\u001b[0;34m)\u001b[0m\u001b[0;34m\u001b[0m\u001b[0;34m\u001b[0m\u001b[0m\n\u001b[0m\u001b[1;32m    587\u001b[0m \u001b[0;34m\u001b[0m\u001b[0m\n\u001b[1;32m    588\u001b[0m \u001b[0;34m\u001b[0m\u001b[0m\n",
            "\u001b[0;32m/usr/local/lib/python3.8/dist-packages/pandas/io/parsers/readers.py\u001b[0m in \u001b[0;36m_read\u001b[0;34m(filepath_or_buffer, kwds)\u001b[0m\n\u001b[1;32m    480\u001b[0m \u001b[0;34m\u001b[0m\u001b[0m\n\u001b[1;32m    481\u001b[0m     \u001b[0;31m# Create the parser.\u001b[0m\u001b[0;34m\u001b[0m\u001b[0;34m\u001b[0m\u001b[0;34m\u001b[0m\u001b[0m\n\u001b[0;32m--> 482\u001b[0;31m     \u001b[0mparser\u001b[0m \u001b[0;34m=\u001b[0m \u001b[0mTextFileReader\u001b[0m\u001b[0;34m(\u001b[0m\u001b[0mfilepath_or_buffer\u001b[0m\u001b[0;34m,\u001b[0m \u001b[0;34m**\u001b[0m\u001b[0mkwds\u001b[0m\u001b[0;34m)\u001b[0m\u001b[0;34m\u001b[0m\u001b[0;34m\u001b[0m\u001b[0m\n\u001b[0m\u001b[1;32m    483\u001b[0m \u001b[0;34m\u001b[0m\u001b[0m\n\u001b[1;32m    484\u001b[0m     \u001b[0;32mif\u001b[0m \u001b[0mchunksize\u001b[0m \u001b[0;32mor\u001b[0m \u001b[0miterator\u001b[0m\u001b[0;34m:\u001b[0m\u001b[0;34m\u001b[0m\u001b[0;34m\u001b[0m\u001b[0m\n",
            "\u001b[0;32m/usr/local/lib/python3.8/dist-packages/pandas/io/parsers/readers.py\u001b[0m in \u001b[0;36m__init__\u001b[0;34m(self, f, engine, **kwds)\u001b[0m\n\u001b[1;32m    809\u001b[0m             \u001b[0mself\u001b[0m\u001b[0;34m.\u001b[0m\u001b[0moptions\u001b[0m\u001b[0;34m[\u001b[0m\u001b[0;34m\"has_index_names\"\u001b[0m\u001b[0;34m]\u001b[0m \u001b[0;34m=\u001b[0m \u001b[0mkwds\u001b[0m\u001b[0;34m[\u001b[0m\u001b[0;34m\"has_index_names\"\u001b[0m\u001b[0;34m]\u001b[0m\u001b[0;34m\u001b[0m\u001b[0;34m\u001b[0m\u001b[0m\n\u001b[1;32m    810\u001b[0m \u001b[0;34m\u001b[0m\u001b[0m\n\u001b[0;32m--> 811\u001b[0;31m         \u001b[0mself\u001b[0m\u001b[0;34m.\u001b[0m\u001b[0m_engine\u001b[0m \u001b[0;34m=\u001b[0m \u001b[0mself\u001b[0m\u001b[0;34m.\u001b[0m\u001b[0m_make_engine\u001b[0m\u001b[0;34m(\u001b[0m\u001b[0mself\u001b[0m\u001b[0;34m.\u001b[0m\u001b[0mengine\u001b[0m\u001b[0;34m)\u001b[0m\u001b[0;34m\u001b[0m\u001b[0;34m\u001b[0m\u001b[0m\n\u001b[0m\u001b[1;32m    812\u001b[0m \u001b[0;34m\u001b[0m\u001b[0m\n\u001b[1;32m    813\u001b[0m     \u001b[0;32mdef\u001b[0m \u001b[0mclose\u001b[0m\u001b[0;34m(\u001b[0m\u001b[0mself\u001b[0m\u001b[0;34m)\u001b[0m\u001b[0;34m:\u001b[0m\u001b[0;34m\u001b[0m\u001b[0;34m\u001b[0m\u001b[0m\n",
            "\u001b[0;32m/usr/local/lib/python3.8/dist-packages/pandas/io/parsers/readers.py\u001b[0m in \u001b[0;36m_make_engine\u001b[0;34m(self, engine)\u001b[0m\n\u001b[1;32m   1038\u001b[0m             )\n\u001b[1;32m   1039\u001b[0m         \u001b[0;31m# error: Too many arguments for \"ParserBase\"\u001b[0m\u001b[0;34m\u001b[0m\u001b[0;34m\u001b[0m\u001b[0;34m\u001b[0m\u001b[0m\n\u001b[0;32m-> 1040\u001b[0;31m         \u001b[0;32mreturn\u001b[0m \u001b[0mmapping\u001b[0m\u001b[0;34m[\u001b[0m\u001b[0mengine\u001b[0m\u001b[0;34m]\u001b[0m\u001b[0;34m(\u001b[0m\u001b[0mself\u001b[0m\u001b[0;34m.\u001b[0m\u001b[0mf\u001b[0m\u001b[0;34m,\u001b[0m \u001b[0;34m**\u001b[0m\u001b[0mself\u001b[0m\u001b[0;34m.\u001b[0m\u001b[0moptions\u001b[0m\u001b[0;34m)\u001b[0m  \u001b[0;31m# type: ignore[call-arg]\u001b[0m\u001b[0;34m\u001b[0m\u001b[0;34m\u001b[0m\u001b[0m\n\u001b[0m\u001b[1;32m   1041\u001b[0m \u001b[0;34m\u001b[0m\u001b[0m\n\u001b[1;32m   1042\u001b[0m     \u001b[0;32mdef\u001b[0m \u001b[0m_failover_to_python\u001b[0m\u001b[0;34m(\u001b[0m\u001b[0mself\u001b[0m\u001b[0;34m)\u001b[0m\u001b[0;34m:\u001b[0m\u001b[0;34m\u001b[0m\u001b[0;34m\u001b[0m\u001b[0m\n",
            "\u001b[0;32m/usr/local/lib/python3.8/dist-packages/pandas/io/parsers/c_parser_wrapper.py\u001b[0m in \u001b[0;36m__init__\u001b[0;34m(self, src, **kwds)\u001b[0m\n\u001b[1;32m     49\u001b[0m \u001b[0;34m\u001b[0m\u001b[0m\n\u001b[1;32m     50\u001b[0m         \u001b[0;31m# open handles\u001b[0m\u001b[0;34m\u001b[0m\u001b[0;34m\u001b[0m\u001b[0;34m\u001b[0m\u001b[0m\n\u001b[0;32m---> 51\u001b[0;31m         \u001b[0mself\u001b[0m\u001b[0;34m.\u001b[0m\u001b[0m_open_handles\u001b[0m\u001b[0;34m(\u001b[0m\u001b[0msrc\u001b[0m\u001b[0;34m,\u001b[0m \u001b[0mkwds\u001b[0m\u001b[0;34m)\u001b[0m\u001b[0;34m\u001b[0m\u001b[0;34m\u001b[0m\u001b[0m\n\u001b[0m\u001b[1;32m     52\u001b[0m         \u001b[0;32massert\u001b[0m \u001b[0mself\u001b[0m\u001b[0;34m.\u001b[0m\u001b[0mhandles\u001b[0m \u001b[0;32mis\u001b[0m \u001b[0;32mnot\u001b[0m \u001b[0;32mNone\u001b[0m\u001b[0;34m\u001b[0m\u001b[0;34m\u001b[0m\u001b[0m\n\u001b[1;32m     53\u001b[0m \u001b[0;34m\u001b[0m\u001b[0m\n",
            "\u001b[0;32m/usr/local/lib/python3.8/dist-packages/pandas/io/parsers/base_parser.py\u001b[0m in \u001b[0;36m_open_handles\u001b[0;34m(self, src, kwds)\u001b[0m\n\u001b[1;32m    220\u001b[0m         \u001b[0mLet\u001b[0m \u001b[0mthe\u001b[0m \u001b[0mreaders\u001b[0m \u001b[0mopen\u001b[0m \u001b[0mIOHandles\u001b[0m \u001b[0mafter\u001b[0m \u001b[0mthey\u001b[0m \u001b[0mare\u001b[0m \u001b[0mdone\u001b[0m \u001b[0;32mwith\u001b[0m \u001b[0mtheir\u001b[0m \u001b[0mpotential\u001b[0m \u001b[0mraises\u001b[0m\u001b[0;34m.\u001b[0m\u001b[0;34m\u001b[0m\u001b[0;34m\u001b[0m\u001b[0m\n\u001b[1;32m    221\u001b[0m         \"\"\"\n\u001b[0;32m--> 222\u001b[0;31m         self.handles = get_handle(\n\u001b[0m\u001b[1;32m    223\u001b[0m             \u001b[0msrc\u001b[0m\u001b[0;34m,\u001b[0m\u001b[0;34m\u001b[0m\u001b[0;34m\u001b[0m\u001b[0m\n\u001b[1;32m    224\u001b[0m             \u001b[0;34m\"r\"\u001b[0m\u001b[0;34m,\u001b[0m\u001b[0;34m\u001b[0m\u001b[0;34m\u001b[0m\u001b[0m\n",
            "\u001b[0;32m/usr/local/lib/python3.8/dist-packages/pandas/io/common.py\u001b[0m in \u001b[0;36mget_handle\u001b[0;34m(path_or_buf, mode, encoding, compression, memory_map, is_text, errors, storage_options)\u001b[0m\n\u001b[1;32m    700\u001b[0m         \u001b[0;32mif\u001b[0m \u001b[0mioargs\u001b[0m\u001b[0;34m.\u001b[0m\u001b[0mencoding\u001b[0m \u001b[0;32mand\u001b[0m \u001b[0;34m\"b\"\u001b[0m \u001b[0;32mnot\u001b[0m \u001b[0;32min\u001b[0m \u001b[0mioargs\u001b[0m\u001b[0;34m.\u001b[0m\u001b[0mmode\u001b[0m\u001b[0;34m:\u001b[0m\u001b[0;34m\u001b[0m\u001b[0;34m\u001b[0m\u001b[0m\n\u001b[1;32m    701\u001b[0m             \u001b[0;31m# Encoding\u001b[0m\u001b[0;34m\u001b[0m\u001b[0;34m\u001b[0m\u001b[0;34m\u001b[0m\u001b[0m\n\u001b[0;32m--> 702\u001b[0;31m             handle = open(\n\u001b[0m\u001b[1;32m    703\u001b[0m                 \u001b[0mhandle\u001b[0m\u001b[0;34m,\u001b[0m\u001b[0;34m\u001b[0m\u001b[0;34m\u001b[0m\u001b[0m\n\u001b[1;32m    704\u001b[0m                 \u001b[0mioargs\u001b[0m\u001b[0;34m.\u001b[0m\u001b[0mmode\u001b[0m\u001b[0;34m,\u001b[0m\u001b[0;34m\u001b[0m\u001b[0;34m\u001b[0m\u001b[0m\n",
            "\u001b[0;31mFileNotFoundError\u001b[0m: [Errno 2] No such file or directory: '/content/drive/MyDrive/Book Recommendation System - Shantanu Houzwala/data/Books.csv'"
          ]
        }
      ]
    },
    {
      "cell_type": "markdown",
      "source": [
        "# **1. Preliminary Analysis**"
      ],
      "metadata": {
        "id": "bdLgZ4K8zSE6"
      }
    },
    {
      "cell_type": "markdown",
      "metadata": {
        "id": "e2Rxz0MMVhxI"
      },
      "source": [
        "### A) Removing the Duplicates in the Books Data Frame Before Mergeing"
      ]
    },
    {
      "cell_type": "code",
      "metadata": {
        "id": "AiQkB_AjZ_-o"
      },
      "source": [
        "#filling the missing values with 'Unknown'\n",
        "df_books['Book-Author'].fillna('Unknown',inplace=True)"
      ],
      "execution_count": null,
      "outputs": []
    },
    {
      "cell_type": "code",
      "metadata": {
        "id": "1L99-O-dqI6y"
      },
      "source": [
        "# Define a function to combine to columns namely title and author\n",
        "def change_title(str1,str2):\n",
        "  '''Change the title of books'''\n",
        "  str1 = str1 +\" \"+'by' +\" \"+str2\n",
        "  return str1"
      ],
      "execution_count": null,
      "outputs": []
    },
    {
      "cell_type": "code",
      "metadata": {
        "id": "0wNj9ehrbuWy"
      },
      "source": [
        "#shape of the dataframe before removing the duplicates\n",
        "df_books.shape"
      ],
      "execution_count": null,
      "outputs": []
    },
    {
      "cell_type": "code",
      "metadata": {
        "id": "MD0JEImtq8Hq"
      },
      "source": [
        "# Create a new column for title\n",
        "df_books['new_title'] = df_books.apply(lambda x : change_title(x['Book-Title'],x['Book-Author']),axis = 1)"
      ],
      "execution_count": null,
      "outputs": []
    },
    {
      "cell_type": "code",
      "metadata": {
        "id": "E0qLcOAzcSA7"
      },
      "source": [
        "# Get rid of duplications\n",
        "df_books = df_books.drop_duplicates(subset='new_title',keep='first')"
      ],
      "execution_count": null,
      "outputs": []
    },
    {
      "cell_type": "code",
      "metadata": {
        "id": "tRJTAWNocX6R"
      },
      "source": [
        "#shape of the dataframe after removing the duplicates\n",
        "df_books.shape"
      ],
      "execution_count": null,
      "outputs": []
    },
    {
      "cell_type": "code",
      "metadata": {
        "id": "ALbdXtmxWeO5"
      },
      "source": [
        "271360-251185"
      ],
      "execution_count": null,
      "outputs": []
    },
    {
      "cell_type": "markdown",
      "metadata": {
        "id": "oWDDscsoWVDy"
      },
      "source": [
        "We can see that there were 20175 duplicates in books dataframe."
      ]
    },
    {
      "cell_type": "code",
      "metadata": {
        "id": "J6RWSvs2Tjam"
      },
      "source": [
        "# defining print as p\n",
        "p=print"
      ],
      "execution_count": null,
      "outputs": []
    },
    {
      "cell_type": "code",
      "metadata": {
        "id": "EskGQrh5FiJ-"
      },
      "source": [
        "#merging all the three dataset\n",
        "df_merged = df_ratings.merge(df_books,how='inner',on='ISBN')\n",
        "df_merged = df_merged.merge(df_user,how='inner',on='User-ID')\n"
      ],
      "execution_count": null,
      "outputs": []
    },
    {
      "cell_type": "code",
      "metadata": {
        "id": "ojoedoWZXWvP"
      },
      "source": [
        "df_merged.shape"
      ],
      "execution_count": null,
      "outputs": []
    },
    {
      "cell_type": "code",
      "metadata": {
        "id": "r9uo6AE6FiCD"
      },
      "source": [
        "#adding a new column that measures the length of the title\n",
        "df_merged['Title-Length'] = df_merged['Book-Title'].apply(len)\n",
        "df_merged['Year-Of-Publication'] = pd.to_numeric(df_merged['Year-Of-Publication'], errors='coerce').fillna(2099, downcast = 'infer')"
      ],
      "execution_count": null,
      "outputs": []
    },
    {
      "cell_type": "code",
      "metadata": {
        "id": "HQSwupkwJ9QL"
      },
      "source": [
        "#description of the features\n",
        "df_merged.describe(include='all')"
      ],
      "execution_count": null,
      "outputs": []
    },
    {
      "cell_type": "code",
      "metadata": {
        "id": "SSiGzUaNKIKD"
      },
      "source": [
        "#information of the features\n",
        "df_merged.info()"
      ],
      "execution_count": null,
      "outputs": []
    },
    {
      "cell_type": "code",
      "metadata": {
        "id": "SNEnmdTkYTj9"
      },
      "source": [
        "916933-671659"
      ],
      "execution_count": null,
      "outputs": []
    },
    {
      "cell_type": "markdown",
      "metadata": {
        "id": "L2tFgqsuYMlH"
      },
      "source": [
        "### There are 245274 missing values in the age column."
      ]
    },
    {
      "cell_type": "code",
      "metadata": {
        "id": "OBfXLvm1KO4J"
      },
      "source": [
        "df_merged.loc[df_merged['ISBN'].str.endswith('X')].head(3)"
      ],
      "execution_count": null,
      "outputs": []
    },
    {
      "cell_type": "markdown",
      "metadata": {
        "id": "-19yt7r7KcrP"
      },
      "source": [
        "## **Conclusion**: Some titles have same ISBN."
      ]
    },
    {
      "cell_type": "markdown",
      "metadata": {
        "id": "rrEdN6K3K8VY"
      },
      "source": [
        "## B) Unique Book Titles"
      ]
    },
    {
      "cell_type": "code",
      "metadata": {
        "id": "ns2x2o2BKOwv"
      },
      "source": [
        "len(df_merged['Book-Title'].unique())"
      ],
      "execution_count": null,
      "outputs": []
    },
    {
      "cell_type": "markdown",
      "metadata": {
        "id": "Z2hLfl_kLGng"
      },
      "source": [
        "## C) Unique ISBNs"
      ]
    },
    {
      "cell_type": "code",
      "metadata": {
        "id": "EcQwbSqyKOo3"
      },
      "source": [
        "len(df_merged['ISBN'].unique())"
      ],
      "execution_count": null,
      "outputs": []
    },
    {
      "cell_type": "markdown",
      "metadata": {
        "id": "j_w3-dTKLTVA"
      },
      "source": [
        "## D) Unique Users\n"
      ]
    },
    {
      "cell_type": "code",
      "metadata": {
        "id": "z5nKMBSnKOdx"
      },
      "source": [
        "len(df_merged['User-ID'].unique())"
      ],
      "execution_count": null,
      "outputs": []
    },
    {
      "cell_type": "markdown",
      "metadata": {
        "id": "IfZVaucuMAYA"
      },
      "source": [
        "## E) Publication Years"
      ]
    },
    {
      "cell_type": "code",
      "metadata": {
        "id": "M6qm9OU9LdY1"
      },
      "source": [
        "df_merged['Year-Of-Publication'].unique()"
      ],
      "execution_count": null,
      "outputs": []
    },
    {
      "cell_type": "markdown",
      "metadata": {
        "id": "iRdvqDC8Made"
      },
      "source": [
        "## **Observation:-** We can clearly see that their are some noise values in the Year of Publication features :-\n",
        "### 1. **String Noise Values -** such as 'DK Publishing Inc' and 'Gallimard.\n",
        "### 2. **Integer Noise Values -** Since this data was collected in august 2004, so any year value greater than 2004 is a noise value."
      ]
    },
    {
      "cell_type": "code",
      "metadata": {
        "id": "mcxxtr2qLw_x"
      },
      "source": [
        "len(df_merged['Publisher'].unique())"
      ],
      "execution_count": null,
      "outputs": []
    },
    {
      "cell_type": "markdown",
      "metadata": {
        "id": "E5Q1qfWRNarx"
      },
      "source": [
        "# **2. Preprocessing and Feature Engineering**"
      ]
    },
    {
      "cell_type": "markdown",
      "metadata": {
        "id": "utwrd1KvVSLs"
      },
      "source": [
        "## 1. Location"
      ]
    },
    {
      "cell_type": "code",
      "metadata": {
        "id": "Jb1ah9N3VHnB"
      },
      "source": [
        "# defining a function to extarct the country names\n",
        "def get_country(x):\n",
        "  return x.split(',')[-1]\n",
        "  \n"
      ],
      "execution_count": null,
      "outputs": []
    },
    {
      "cell_type": "code",
      "metadata": {
        "id": "3DhvLvciVHnB"
      },
      "source": [
        "#applying the function the location column\n",
        "df_location = df_user.copy(deep=True)\n",
        "df_location['country'] = df_user['Location'].apply(get_country)"
      ],
      "execution_count": null,
      "outputs": []
    },
    {
      "cell_type": "code",
      "metadata": {
        "id": "OTNOORgZVHnB"
      },
      "source": [
        "df_merged['Location'] = df_merged['Location'].apply(get_country)"
      ],
      "execution_count": null,
      "outputs": []
    },
    {
      "cell_type": "markdown",
      "metadata": {
        "id": "KISfMcVSZrbe"
      },
      "source": [
        "Extracted just the country names from the location column."
      ]
    },
    {
      "cell_type": "markdown",
      "metadata": {
        "id": "dmEPPnKaVa6n"
      },
      "source": [
        "## 2. Age"
      ]
    },
    {
      "cell_type": "markdown",
      "metadata": {
        "id": "ltzAwi_lZ6WE"
      },
      "source": [
        "### a) Creating bins for the age column."
      ]
    },
    {
      "cell_type": "code",
      "metadata": {
        "id": "HbftIt3hVnxz"
      },
      "source": [
        "# Create age groups using age column\n",
        "bins = [-1,12,20,50,100]\n",
        "labels = ['Kid','Teenager','Adult','Old']\n",
        "df_merged['age_bins'] = pd.cut(x=df_merged['Age'], bins=bins,labels=labels)"
      ],
      "execution_count": null,
      "outputs": []
    },
    {
      "cell_type": "markdown",
      "metadata": {
        "id": "ZO1S2reiaEUj"
      },
      "source": [
        "### Labelled 'Kid' for values between between 1-12\n",
        "### 'Teenager' for values between 13-19\n",
        "### 'Adult' for values between 20-50\n",
        "### 'Old' for values greater than 50"
      ]
    },
    {
      "cell_type": "markdown",
      "metadata": {
        "id": "6VlD4jfnO672"
      },
      "source": [
        "### b) Capping Outlier\n",
        "\n"
      ]
    },
    {
      "cell_type": "code",
      "metadata": {
        "id": "ZFy3OByvRc6z"
      },
      "source": [
        "# Number of outliers\n",
        "outliers = sum(df_merged['Age']>90)\n",
        "print(outliers)"
      ],
      "execution_count": null,
      "outputs": []
    },
    {
      "cell_type": "code",
      "metadata": {
        "id": "qfm7IvjeQ_Ro"
      },
      "source": [
        "# Plot Distribution of Age\n",
        "sns.distplot(df_merged['Age'].dropna())\n",
        "# Handling outliers by randomly replacing age >90 by values between 90 and 100\n",
        "age2 = df_merged['Age'].copy()\n",
        "random_age2 = np.random.randint(90,100,outliers)\n",
        "age2[df_merged['Age']>90]=random_age2\n",
        "df_merged['Age'] = age2"
      ],
      "execution_count": null,
      "outputs": []
    },
    {
      "cell_type": "markdown",
      "metadata": {
        "id": "Cztjbp5GQPX1"
      },
      "source": [
        "##3.Handling Missing Value"
      ]
    },
    {
      "cell_type": "code",
      "metadata": {
        "id": "6KQ0XQURNfvU"
      },
      "source": [
        "# Missing Value Count Function\n",
        "def show_missing(y):\n",
        "    missing = y.columns[y.isnull().any()].tolist()\n",
        "    return missing\n",
        "\n",
        "def print_missing(x):\n",
        "  # Missing data counts and percentage\n",
        "  print('Missing Data Count')\n",
        "  print(x[show_missing(x)].isnull().sum().sort_values(ascending = False))\n",
        "  print('--'*50)\n",
        "  print('Missing Data Percentage')\n",
        "  print(round(x[show_missing(x)].isnull().sum().sort_values(ascending = False)/len(x)*100,2))"
      ],
      "execution_count": null,
      "outputs": []
    },
    {
      "cell_type": "markdown",
      "metadata": {
        "id": "SXkuVPD7cm9q"
      },
      "source": [
        "### Missing values for different features"
      ]
    },
    {
      "cell_type": "code",
      "metadata": {
        "id": "LjboREwYNfl6"
      },
      "source": [
        "print_missing(df_user)"
      ],
      "execution_count": null,
      "outputs": []
    },
    {
      "cell_type": "code",
      "metadata": {
        "id": "3KSn6gIoNfPI"
      },
      "source": [
        "print_missing(df_location)"
      ],
      "execution_count": null,
      "outputs": []
    },
    {
      "cell_type": "code",
      "metadata": {
        "id": "8QxjFL2CQqDf"
      },
      "source": [
        "print_missing(df_merged)"
      ],
      "execution_count": null,
      "outputs": []
    },
    {
      "cell_type": "markdown",
      "metadata": {
        "id": "BxhzDWCZTo3R"
      },
      "source": [
        "###a) Dealing with the missing values of age."
      ]
    },
    {
      "cell_type": "code",
      "metadata": {
        "id": "D0XafKc5TYUu"
      },
      "source": [
        "# Null values in age column\n",
        "nulls = sum(df_merged['Age'].isnull())\n",
        "print('Null values in Age: ',nulls)"
      ],
      "execution_count": null,
      "outputs": []
    },
    {
      "cell_type": "code",
      "metadata": {
        "id": "s7VNxwmxQp8j"
      },
      "source": [
        "# Replacing null values\n",
        "median = df_merged['Age'].median()\n",
        "std = df_merged['Age'].std()\n",
        "random_age = np.random.randint(median - std, median + std, size = nulls)\n",
        "age = df_merged['Age'].copy()\n",
        "age[pd.isnull(age)] = random_age\n",
        "df_merged['Age'] = age\n",
        "df_merged['Age'] = df_merged['Age'].astype(int)"
      ],
      "execution_count": null,
      "outputs": []
    },
    {
      "cell_type": "code",
      "metadata": {
        "id": "KE_qRD-LeATa"
      },
      "source": [
        "df_merged.shape"
      ],
      "execution_count": null,
      "outputs": []
    },
    {
      "cell_type": "markdown",
      "metadata": {
        "id": "KuH7cZE2eY6Y"
      },
      "source": [
        "## 4. Calculating the Rating Count and Rating Mean for each Book-Title"
      ]
    },
    {
      "cell_type": "code",
      "metadata": {
        "id": "TuyfpF4WbS7p"
      },
      "source": [
        "# Calculating the rating count and mean rating given to each book by the user.\n",
        "\n",
        "rating_count = df_merged.groupby('Book-Title')['Book-Rating'].count().to_frame()\n",
        "rating_mean = df_merged.groupby('Book-Title')['Book-Rating'].mean().to_frame()"
      ],
      "execution_count": null,
      "outputs": []
    },
    {
      "cell_type": "code",
      "metadata": {
        "id": "U0KLV4hlbSwL"
      },
      "source": [
        "# Renaming the column names before merging them with the final dataset.\n",
        "\n",
        "rating_count.rename(columns={'Book-Rating':'Rating-Count'}, inplace=True)\n",
        "rating_mean.rename(columns={'Book-Rating':'Rating-Mean'}, inplace=True)"
      ],
      "execution_count": null,
      "outputs": []
    },
    {
      "cell_type": "code",
      "metadata": {
        "id": "ahhxcaVUbSqL"
      },
      "source": [
        "df_merged = pd.merge(df_merged, rating_count, on='Book-Title', how='inner')\n",
        "df_merged = pd.merge(df_merged, rating_mean, on='Book-Title', how='inner')"
      ],
      "execution_count": null,
      "outputs": []
    },
    {
      "cell_type": "code",
      "metadata": {
        "id": "MVhUp9aQcpqq"
      },
      "source": [
        "# rounding off the rating mean feature to 2 decimal points\n",
        "df_merged['Rating-Mean'] = df_merged['Rating-Mean'].round(2)"
      ],
      "execution_count": null,
      "outputs": []
    },
    {
      "cell_type": "code",
      "metadata": {
        "id": "-QBVSbAkiHfW"
      },
      "source": [
        "df_merged.drop(columns=['Image-URL-M','Image-URL-S','Image-URL-L'],inplace=True)"
      ],
      "execution_count": null,
      "outputs": []
    },
    {
      "cell_type": "code",
      "metadata": {
        "id": "GxqjSgAIUaD6"
      },
      "source": [
        "df_merged.head(2)"
      ],
      "execution_count": null,
      "outputs": []
    },
    {
      "cell_type": "markdown",
      "metadata": {
        "id": "ehhAG6voi4HX"
      },
      "source": [
        "## 5.Using IMDB Formula to calculate the Weighted Rating for our books"
      ]
    },
    {
      "cell_type": "markdown",
      "metadata": {
        "id": "TSGlSmUuDDf3"
      },
      "source": [
        "![WhatsApp Image 2021-09-12 at 10.41.42 PM.jpeg](data:image/jpeg;base64,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)"
      ]
    },
    {
      "cell_type": "code",
      "metadata": {
        "id": "e14Av9n7d_h3"
      },
      "source": [
        "# Calculating the mean vote across the whole df\n",
        "C = df_merged['Rating-Mean'].mean()\n"
      ],
      "execution_count": null,
      "outputs": []
    },
    {
      "cell_type": "code",
      "metadata": {
        "id": "aOzfW9UUfXPV"
      },
      "source": [
        "# Calculating the minimum votes required to be listed in the top 5%\n",
        "m = rating_count.quantile(.95)[0]\n"
      ],
      "execution_count": null,
      "outputs": []
    },
    {
      "cell_type": "code",
      "metadata": {
        "id": "w3wvSJwyd_e9"
      },
      "source": [
        "# IMDB formula; source: https://tutorialedge.net/python/building-imdb-top-250-clone-pandas/\n",
        "def weighted_rating(x, m=m, C=C):\n",
        "    v = x['Rating-Count']\n",
        "    R = x['Rating-Mean']\n",
        "\n",
        "    return (v/(v+m) * R) + (m/(m+v) * C)"
      ],
      "execution_count": null,
      "outputs": []
    },
    {
      "cell_type": "markdown",
      "metadata": {
        "id": "ccgOwDKAfQBT"
      },
      "source": [
        "## **Splitting the Dataset into Two Based on the Explicit and Implicit Ratings**"
      ]
    },
    {
      "cell_type": "code",
      "metadata": {
        "id": "p9KQkiyAklp8"
      },
      "source": [
        "df_merged_updated=df_merged[df_merged['Book-Rating']!=0]"
      ],
      "execution_count": null,
      "outputs": []
    },
    {
      "cell_type": "code",
      "metadata": {
        "id": "2y_dmOaRfvHF"
      },
      "source": [
        "p(f\" Implicit dataset has {df_merged.shape[0]-df_merged_updated.shape[0]} observations\")\n",
        "p(f\" Explicit dataset has {df_merged_updated.shape[0]} observations\")"
      ],
      "execution_count": null,
      "outputs": []
    },
    {
      "cell_type": "code",
      "metadata": {
        "id": "t-U-gbaed_ax"
      },
      "source": [
        "# Create relevant sub-dataset\n",
        "df_top_10 = df_merged_updated.copy().loc[df_merged_updated['Rating-Count'] >= m]\n",
        "df_top_10.shape"
      ],
      "execution_count": null,
      "outputs": []
    },
    {
      "cell_type": "code",
      "metadata": {
        "id": "WWam91IRgNxN"
      },
      "source": [
        "df_top_10['Score'] = df_top_10.apply(weighted_rating, axis=1)"
      ],
      "execution_count": null,
      "outputs": []
    },
    {
      "cell_type": "markdown",
      "metadata": {
        "id": "EV1IswaMNMeQ"
      },
      "source": [
        "# **3. Exploratory Data Analysis**"
      ]
    },
    {
      "cell_type": "markdown",
      "metadata": {
        "id": "HVX5QTyUlg2g"
      },
      "source": [
        "##1. Ratings Count"
      ]
    },
    {
      "cell_type": "markdown",
      "metadata": {
        "id": "VBrykNV8hByK"
      },
      "source": [
        "### a) Explicit+Implicit Ratings"
      ]
    },
    {
      "cell_type": "code",
      "metadata": {
        "id": "C6cr0abElqiA"
      },
      "source": [
        "rating_count=df_ratings['Book-Rating'].value_counts().reset_index().sort_values('Book-Rating',ascending=False)"
      ],
      "execution_count": null,
      "outputs": []
    },
    {
      "cell_type": "code",
      "metadata": {
        "id": "kll7l3lTLw5g"
      },
      "source": [
        "plt.figure(figsize=(12,8))\n",
        "ax=sns.barplot(rating_count['index'],rating_count['Book-Rating'])\n",
        "ax.set_title('Ratings Count',fontsize=30,fontweight='bold')"
      ],
      "execution_count": null,
      "outputs": []
    },
    {
      "cell_type": "markdown",
      "metadata": {
        "id": "jQGPZJwegvHQ"
      },
      "source": [
        "### **Conclusion**: The datset with both explicit and implicit ratings is highly skewed toward the value of zero."
      ]
    },
    {
      "cell_type": "markdown",
      "metadata": {
        "id": "3OVK0-eWhNtC"
      },
      "source": [
        "### b) Explicit Ratings"
      ]
    },
    {
      "cell_type": "code",
      "metadata": {
        "id": "Ru-UDB3jmfbB"
      },
      "source": [
        "sns.set(rc={'figure.figsize':(11.7,8.27)})\n",
        "# df_merged_updated = df_merged_updated[df_merged['Book-Rating']!=0]\n",
        "sns.countplot(x='Book-Rating', data=df_merged_updated).set_title('Ratings-Density Plot', weight='bold').set_fontsize('25')"
      ],
      "execution_count": null,
      "outputs": []
    },
    {
      "cell_type": "markdown",
      "metadata": {
        "id": "KAkb7_GAhWH0"
      },
      "source": [
        "### **Conclusion**: The skewness perishes after we remove the implicit ratings."
      ]
    },
    {
      "cell_type": "markdown",
      "metadata": {
        "id": "HWn-1K3Rl3VX"
      },
      "source": [
        "## 2. Author V/S Ratings"
      ]
    },
    {
      "cell_type": "code",
      "metadata": {
        "id": "ZrpUWm8Kl0gn"
      },
      "source": [
        "# ratings count per author\n",
        "auth_rating=df_merged.groupby(['Book-Author'])['Book-Rating'].count().sort_values(ascending=False).reset_index()"
      ],
      "execution_count": null,
      "outputs": []
    },
    {
      "cell_type": "code",
      "metadata": {
        "id": "Dpcgz3wSl0go"
      },
      "source": [
        "plt.figure(figsize=(12,8))\n",
        "ax=sns.barplot(auth_rating[auth_rating['Book-Rating']>3000]['Book-Author'],auth_rating[auth_rating['Book-Rating']>3000]['Book-Rating'])\n",
        "ax.set_title('Author V/S Ratings', fontsize=30,fontweight='bold')\n",
        "plt.xticks(fontsize=15,rotation=25)"
      ],
      "execution_count": null,
      "outputs": []
    },
    {
      "cell_type": "markdown",
      "metadata": {
        "id": "vS9_q7KTiAkC"
      },
      "source": [
        "*   ### Here, we can observe, most frequently rated Authors.\n",
        "*   ### Most frequently rated author is Nora Roberts, followed by Stephen King."
      ]
    },
    {
      "cell_type": "markdown",
      "metadata": {
        "id": "0ujtmFU9iQ1-"
      },
      "source": [
        "## 3. Book Ratings Count"
      ]
    },
    {
      "cell_type": "code",
      "metadata": {
        "id": "xXOrxE_NmEW-"
      },
      "source": [
        "#Book ratings count using group by\n",
        "book_rating=df_merged.groupby(['Book-Title'])['Book-Rating'].count().sort_values(ascending=False).reset_index()"
      ],
      "execution_count": null,
      "outputs": []
    },
    {
      "cell_type": "code",
      "metadata": {
        "id": "HD7Mr519mEW-"
      },
      "source": [
        "plt.figure(figsize=(15,8))\n",
        "ax=sns.barplot(book_rating['Book-Rating'][:10],book_rating['Book-Title'][:10],color='g')\n",
        "ax.set_title('Book Ratings Count', fontsize=30,fontweight='bold')\n",
        "ax.set_xlabel('Ratings-Count',fontsize=20)\n",
        "ax.set_ylabel('Book-Titles',fontsize=20)\n",
        "plt.yticks(fontsize=15)\n",
        "plt.xticks(fontsize=15)"
      ],
      "execution_count": null,
      "outputs": []
    },
    {
      "cell_type": "markdown",
      "metadata": {
        "id": "VgAkuLWLq5Ou"
      },
      "source": [
        "\n",
        "\n",
        "\n",
        "*   ### Here, we are able to observe, most frequently rated books by the users.\n",
        "*   ### Most frequently rated book, happens to be Wild Animus.\n",
        "\n",
        "\n"
      ]
    },
    {
      "cell_type": "markdown",
      "metadata": {
        "id": "UAZg9FIzm67c"
      },
      "source": [
        "## 4. Location"
      ]
    },
    {
      "cell_type": "code",
      "metadata": {
        "id": "gqL3sL6TGV07"
      },
      "source": [
        "#Identifying what % of customers are coming from different countries\n",
        "df_location = pd.DataFrame(df_location.country.value_counts(normalize=True)).reset_index()\n",
        "df_location.columns = ['countries','value_counts']\n",
        "\n",
        "#Labeling countries with low customer % as other\n",
        "df_location['countries'] = df_location.apply(lambda x: 'other' if (x['value_counts'] < 0.01 or x['countries'] == '') else x['countries'],axis=1)\n",
        "\n",
        "#Grouping the customer % from 'other' countries \n",
        "df_location = df_location.groupby('countries')['value_counts'].sum().reset_index()"
      ],
      "execution_count": null,
      "outputs": []
    },
    {
      "cell_type": "code",
      "metadata": {
        "id": "dD0QM-gzRFUy"
      },
      "source": [
        "#Every country has now just one occurance\n",
        "df_location.countries.value_counts()"
      ],
      "execution_count": null,
      "outputs": []
    },
    {
      "cell_type": "code",
      "metadata": {
        "id": "I_ujPKRqGspd"
      },
      "source": [
        "#define Seaborn color palette to use\n",
        "colors = sns.color_palette('pastel')[0:5]\n",
        "\n",
        "#create pie chart\n",
        "plt.title(\"Country Representation in the Data Set\",bbox={'facecolor':'0.8', 'pad':8},fontsize=24, fontdict={\"weight\": \"bold\"},y=1.25,x=0.578)\n",
        "f = plt.pie(df_location['value_counts'], labels = df_location['countries'], colors = colors, autopct='%.0f%%',radius=1.4)"
      ],
      "execution_count": null,
      "outputs": []
    },
    {
      "cell_type": "markdown",
      "metadata": {
        "id": "qpAC-2y4nK86"
      },
      "source": [
        "\n",
        "\n",
        "*   ### Most customers are from United states of America, followd by Canada, United Kingdom and Germany.\n",
        "*   ### Countries with less than 1% customers are labeled as other\n",
        "\n"
      ]
    },
    {
      "cell_type": "markdown",
      "metadata": {
        "id": "vmCHtjc1sQ83"
      },
      "source": [
        "## 4. Age vs Rating Density\n"
      ]
    },
    {
      "cell_type": "code",
      "metadata": {
        "id": "81pL1s_XcplC"
      },
      "source": [
        "# Visualizing the rating counts of the users. \n",
        "df_merged_updated['Rating-Count'].hist(bins=[0,5,10,20,30,40,50,60,70,80,90,100])"
      ],
      "execution_count": null,
      "outputs": []
    },
    {
      "cell_type": "code",
      "metadata": {
        "id": "RpgUZjGadk3v"
      },
      "source": [
        "# Visualizing the rating counts of the users in the range between 0 to 20. \n",
        "df_merged_updated['Rating-Count'].hist(bins=[0,2,4,6,8,10,12,14,16,18,20])"
      ],
      "execution_count": null,
      "outputs": []
    },
    {
      "cell_type": "markdown",
      "metadata": {
        "id": "1mfqrcS1n0BJ"
      },
      "source": [
        "## **From this visualization it is evident that most books have been rated by 2 to 5 users only.**"
      ]
    },
    {
      "cell_type": "markdown",
      "metadata": {
        "id": "8Jz0b3_lvFa6"
      },
      "source": [
        "## 5. Age Bin Representation"
      ]
    },
    {
      "cell_type": "code",
      "metadata": {
        "id": "27sSHU5IU90C"
      },
      "source": [
        "# Age group that rated books the most\n",
        "plt.figure(figsize=(20,12))\n",
        "df_merged.groupby('age_bins')['Book-Rating'].count().plot(kind='pie')"
      ],
      "execution_count": null,
      "outputs": []
    },
    {
      "cell_type": "markdown",
      "metadata": {
        "id": "5vw0deVeulCK"
      },
      "source": [
        "*   ### Most customers are Adults (20-50yrs).\n",
        "* ### 2nd most represented age group is for boomers (>50yrs).\n",
        "\n"
      ]
    },
    {
      "cell_type": "code",
      "metadata": {
        "id": "jT2ncnih8Sh7"
      },
      "source": [
        "# Which country rates books the most\n",
        "b1 = df_merged.groupby('country')['Book-Rating'].count().sort_values(ascending=False).head(5)\n",
        "b1"
      ],
      "execution_count": null,
      "outputs": []
    },
    {
      "cell_type": "code",
      "metadata": {
        "id": "afl2tBoPZ57A"
      },
      "source": [
        "# Implicit ratings i.e. Book-Rating = 0\n",
        "b2 = df_merged[df_merged['Book-Rating']==0].\\\n",
        "groupby('Location')['Book-Rating'].count().sort_values(ascending=False).head(5)"
      ],
      "execution_count": null,
      "outputs": []
    },
    {
      "cell_type": "code",
      "metadata": {
        "id": "pVxN1MvUaLSj"
      },
      "source": [
        "# Bar plot for Rating comparison \n",
        "n= 5\n",
        "X_axis = np.arange(n)\n",
        "X = b1.index\n",
        "\n",
        "plt.figure(figsize=(10,5))  \n",
        "plt.bar(X_axis - 0.2, b1, 0.4, label = 'Total ratings')\n",
        "plt.bar(X_axis + 0.2, b2, 0.4, label = 'Implicit atings')\n",
        "  \n",
        "plt.xticks(X_axis, X)\n",
        "plt.xlabel(\"Countries\")\n",
        "plt.ylabel(\"Number of ratings\")\n",
        "plt.title(\"Total ratings and Implicit ratings for top 5 countries in terms of ratings given\")\n",
        "plt.legend()\n",
        "plt.show()"
      ],
      "execution_count": null,
      "outputs": []
    },
    {
      "cell_type": "code",
      "metadata": {
        "id": "ZXNnY_JgWDVc"
      },
      "source": [
        "# Most popular books for different age groups\n",
        "age_bin_df = df_merged.groupby(['age_bins','Book-Title'])['Book-Rating'].count().sort_values(ascending=False).reset_index()\n",
        "age_bin_df.rename(columns={'Book-Title':'Number of times rated'},inplace=True)"
      ],
      "execution_count": null,
      "outputs": []
    },
    {
      "cell_type": "markdown",
      "metadata": {
        "id": "VSEE685eqDeL"
      },
      "source": [
        "### **Note**: Users from each age category can be said to have some similar book preferences, we will later use Age as a relevance to recommend books for implicit ratings."
      ]
    },
    {
      "cell_type": "markdown",
      "metadata": {
        "id": "PsOC5kvXqKnF"
      },
      "source": [
        "# **4. Preparing the Data for Model Building.**"
      ]
    },
    {
      "cell_type": "markdown",
      "metadata": {
        "id": "uakjCcULrqx7"
      },
      "source": [
        "\n",
        "### Here the Year-Of-Publication is in object Dtype, it should ideally be in  numeric Dtype. Let us explore this feature a bit more."
      ]
    },
    {
      "cell_type": "markdown",
      "metadata": {
        "id": "9daLGxqwrqx8"
      },
      "source": [
        "## 1. Cleaning the Feature - Year of Publication"
      ]
    },
    {
      "cell_type": "code",
      "metadata": {
        "id": "FoNXitg4rqx8"
      },
      "source": [
        "# Visually inspecting this feature by observing it's unique values.\n",
        "df_merged_updated['Year-Of-Publication'].unique()"
      ],
      "execution_count": null,
      "outputs": []
    },
    {
      "cell_type": "markdown",
      "metadata": {
        "id": "gHqsnOnUrqx8"
      },
      "source": [
        "### Observation:-We can clearly see that their are some noice values in the Year of Publication features :-\n",
        "### 1. String Noice Values - such as 'DK Publishing Inc' and 'Gallimard.\n",
        "### 2. Integer Noice Values - Since this data was collected in august 2004, so any year value greater than 2004 is a noice value."
      ]
    },
    {
      "cell_type": "code",
      "metadata": {
        "id": "EpY1tZ8wrqx9"
      },
      "source": [
        "# Casting Year-Of-Publication to numeric datatype and removing all String Noice Values using coerce functionality.\n",
        "\n",
        "df_merged_updated['Year-Of-Publication'] = pd.to_numeric(df_merged_updated['Year-Of-Publication'], 'coerce')"
      ],
      "execution_count": null,
      "outputs": []
    },
    {
      "cell_type": "code",
      "metadata": {
        "id": "1Q3GYSIurqx9"
      },
      "source": [
        "# Cross checking the column to check if the string based noice values are removed or not.\n",
        "df_merged_updated['Year-Of-Publication'].unique()"
      ],
      "execution_count": null,
      "outputs": []
    },
    {
      "cell_type": "markdown",
      "metadata": {
        "id": "2meLD-XawP_R"
      },
      "source": [
        "### Observaion: There are values like 2050, 2099 etc. which are not true."
      ]
    },
    {
      "cell_type": "code",
      "metadata": {
        "id": "7xmFRweurqx9"
      },
      "source": [
        "# Removing all the integer Noice Values from the Dataset.\n",
        "df_merged_updated = df_merged_updated[(df_merged_updated['Year-Of-Publication']<=2006)]\n",
        "df_merged_updated.head(2)"
      ],
      "execution_count": null,
      "outputs": []
    },
    {
      "cell_type": "code",
      "metadata": {
        "id": "155AXHClrqx-"
      },
      "source": [
        "#df_merged_updated['Year-Of-Publication'].unique()"
      ],
      "execution_count": null,
      "outputs": []
    },
    {
      "cell_type": "code",
      "metadata": {
        "id": "M21sUiE2rqx-"
      },
      "source": [
        "# The percentage of Data lost while cleaning the Year-of_publication Feature.\n",
        "percentage_of_data_lost = (340040 - df_merged_updated.shape[0])*100/340040\n",
        "percentage_of_data_lost"
      ],
      "execution_count": null,
      "outputs": []
    },
    {
      "cell_type": "markdown",
      "metadata": {
        "id": "XQEeHvF_rqx-"
      },
      "source": [
        "### **Therefore, after cleaning the dataset based upon Year-Of-Publication Feature, we lost only a miniscule amount of 0.8% data.**"
      ]
    },
    {
      "cell_type": "markdown",
      "metadata": {
        "id": "Kv_KS0rQsDlb"
      },
      "source": [
        "## 2. Selecting Books with Optimum Number of Ratings"
      ]
    },
    {
      "cell_type": "markdown",
      "metadata": {
        "id": "GYIoax-7saAS"
      },
      "source": [
        "* ### As we all know that building any recommendation system requires a lot of data. Recommendations should be relevant otherwise they can cause a nuisance to the customers. \n",
        "* ### So, we have set a threshold number of ratings per book in order to get optimal recommendations for our users."
      ]
    },
    {
      "cell_type": "code",
      "metadata": {
        "id": "Y3vqdb0328_J"
      },
      "source": [
        "# counting the ratings per ISBN\n",
        "books_reduce=df_merged_updated.groupby(['ISBN'])['Book-Rating'].count().reset_index().sort_values('Book-Rating',ascending=False)"
      ],
      "execution_count": null,
      "outputs": []
    },
    {
      "cell_type": "code",
      "metadata": {
        "id": "NWFAbgAC28_K"
      },
      "source": [
        "#Considering all the counts greater than 10\n",
        "reduced_books=books_reduce[books_reduce['Book-Rating']>10]['ISBN']"
      ],
      "execution_count": null,
      "outputs": []
    },
    {
      "cell_type": "code",
      "metadata": {
        "id": "ioc-JfGF28_K"
      },
      "source": [
        "#merging it with the original dataset\n",
        "df_merged_updated=df_merged_updated.merge(reduced_books,how='inner',left_on='ISBN',right_on='ISBN')"
      ],
      "execution_count": null,
      "outputs": []
    },
    {
      "cell_type": "code",
      "metadata": {
        "id": "HMHBX8ZO28_L"
      },
      "source": [
        "df_merged_updated.shape"
      ],
      "execution_count": null,
      "outputs": []
    },
    {
      "cell_type": "markdown",
      "metadata": {
        "id": "Rvq_7EMFMYOW"
      },
      "source": [
        "## 3. Defining the Optimum Book reader\n",
        "\n",
        "*   ### We can't take every user's rating at facevalue because if the user is a novice reader with only an experience of reading a couple of books, his/her ratings might not be much relevant for finding similarity among books.\n",
        "\n",
        "* ### Therefore as a general rule of thumb we choosing only those User's who have rated atleast 15 Books for builing the recommendation system."
      ]
    },
    {
      "cell_type": "code",
      "metadata": {
        "id": "5V3K3vwjV6VF"
      },
      "source": [
        "# Size of dataset rows before the User selection operation.\n",
        "df_size_before_removing_Novice_readers = df_merged_updated.shape[0]\n",
        "df_size_before_removing_Novice_readers"
      ],
      "execution_count": null,
      "outputs": []
    },
    {
      "cell_type": "code",
      "metadata": {
        "id": "wAGSVgLlTP7z"
      },
      "source": [
        "# Storing the value counts of User-ID's in a new variable named counts1\n",
        "counts1 = df_merged_updated['User-ID'].value_counts()\n",
        "\n",
        "# Removing the User-ID's which have rated less than 10 books.\n",
        "df_merged_updated= df_merged_updated[df_merged_updated['User-ID'].isin(counts1[counts1 >=10].index)].reset_index()\n",
        "df_merged_updated.drop(columns='index', inplace=True)"
      ],
      "execution_count": null,
      "outputs": []
    },
    {
      "cell_type": "code",
      "metadata": {
        "id": "qYwdLlUXT-VB"
      },
      "source": [
        "df_merged_updated.shape"
      ],
      "execution_count": null,
      "outputs": []
    },
    {
      "cell_type": "code",
      "metadata": {
        "id": "n5hIvUMkMf8H"
      },
      "source": [
        "# Size of dataset rows after the User selection operation.\n",
        "df_size_after_removing_Novice_readers = df_merged_updated.shape[0]\n",
        "df_size_after_removing_Novice_readers"
      ],
      "execution_count": null,
      "outputs": []
    },
    {
      "cell_type": "code",
      "metadata": {
        "id": "hdVRHbE5ExVB"
      },
      "source": [
        "df_merged_updated.shape"
      ],
      "execution_count": null,
      "outputs": []
    },
    {
      "cell_type": "markdown",
      "metadata": {
        "id": "wYfwJ6LpyZZE"
      },
      "source": [
        "# **5. Building Models**"
      ]
    },
    {
      "cell_type": "markdown",
      "source": [
        "## **1. Popularity Based Recommender System**\n",
        "\n"
      ],
      "metadata": {
        "id": "bMiAzcbRX7nr"
      }
    },
    {
      "cell_type": "code",
      "source": [
        "#Merging Books and Ratings dataframes\n",
        "ratings_with_name = df_ratings.merge(df_books,on='ISBN')"
      ],
      "metadata": {
        "id": "DaIp1VXcX6Sm"
      },
      "execution_count": null,
      "outputs": []
    },
    {
      "cell_type": "code",
      "source": [
        "#Counting number of rating for each book\n",
        "num_rating_df = ratings_with_name.groupby('Book-Title').count()['Book-Rating'].reset_index()\n",
        "num_rating_df.rename(columns={'Book-Rating':'num_ratings'},inplace=True)\n",
        "num_rating_df"
      ],
      "metadata": {
        "id": "m8Lupz2xYQjk"
      },
      "execution_count": null,
      "outputs": []
    },
    {
      "cell_type": "code",
      "source": [
        "#Calculating average rating for each book\n",
        "avg_rating_df = ratings_with_name.groupby('Book-Title').mean()['Book-Rating'].reset_index()\n",
        "avg_rating_df.rename(columns={'Book-Rating':'avg_rating'},inplace=True)\n",
        "avg_rating_df"
      ],
      "metadata": {
        "id": "oHSe8DUcYQhL"
      },
      "execution_count": null,
      "outputs": []
    },
    {
      "cell_type": "code",
      "source": [
        "#Merging num_rating and avg_rating dataframes on Book-Title column\n",
        "popular_df = num_rating_df.merge(avg_rating_df,on='Book-Title')\n",
        "popular_df"
      ],
      "metadata": {
        "id": "WfzH5bM0YQdS"
      },
      "execution_count": null,
      "outputs": []
    },
    {
      "cell_type": "code",
      "source": [
        "#Sorting top 50 books those who have received more than 250 ratings and highest average ratings\n",
        "popular_df = popular_df[popular_df['num_ratings']>=250].sort_values('avg_rating',ascending=False).head(50)"
      ],
      "metadata": {
        "id": "qV2xnHdNYQZi"
      },
      "execution_count": null,
      "outputs": []
    },
    {
      "cell_type": "code",
      "source": [
        "popular_df = popular_df.merge(df_books,on='Book-Title')\n",
        "popular_df"
      ],
      "metadata": {
        "id": "rvhwNZ86YhiV"
      },
      "execution_count": null,
      "outputs": []
    },
    {
      "cell_type": "markdown",
      "metadata": {
        "id": "ScA-aQ3N0XRU"
      },
      "source": [
        "## **2. Collaborative Filtering Based Recommender System (User Based)**"
      ]
    },
    {
      "cell_type": "code",
      "metadata": {
        "id": "FW15lRLLL4c-"
      },
      "source": [
        "#Selecting users who have given more than 200 ratings\n",
        "#Merging Books and Ratings dataframes\n",
        "ratings_with_name = df_ratings.merge(df_books,on='ISBN')\n",
        "x = ratings_with_name.groupby('User-ID').count()['Book-Rating'] > 200\n",
        "reliable_users = x[x].index"
      ],
      "execution_count": null,
      "outputs": []
    },
    {
      "cell_type": "code",
      "source": [
        "filtered_rating = ratings_with_name[ratings_with_name['User-ID'].isin(reliable_users)]"
      ],
      "metadata": {
        "id": "SJ44B2PWWp4i"
      },
      "execution_count": null,
      "outputs": []
    },
    {
      "cell_type": "code",
      "source": [
        "#Selecting top 50 books with highest number of rating \n",
        "y = filtered_rating.groupby('Book-Title').count()['Book-Rating']>=50\n",
        "famous_books = y[y].index"
      ],
      "metadata": {
        "id": "wqvxQ6ZeWweH"
      },
      "execution_count": null,
      "outputs": []
    },
    {
      "cell_type": "code",
      "source": [
        "final_ratings = filtered_rating[filtered_rating['Book-Title'].isin(famous_books)]"
      ],
      "metadata": {
        "id": "fABQ7XmAW-h1"
      },
      "execution_count": null,
      "outputs": []
    },
    {
      "cell_type": "code",
      "source": [
        "#Applying Pivot table on final_ratings dataframe\n",
        "pt = final_ratings.pivot_table(index='Book-Title',columns='User-ID',values='Book-Rating')"
      ],
      "metadata": {
        "id": "LMATfOSZWwaO"
      },
      "execution_count": null,
      "outputs": []
    },
    {
      "cell_type": "code",
      "source": [
        "pt.fillna(0,inplace=True)\n",
        "pt"
      ],
      "metadata": {
        "id": "Wr1dnZG6WwWm"
      },
      "execution_count": null,
      "outputs": []
    },
    {
      "cell_type": "code",
      "source": [
        "#Applying cosine_similarity to pivot table\n",
        "similarity_scores = cosine_similarity(pt)\n",
        "similarity_scores.shape"
      ],
      "metadata": {
        "id": "51elqeYlWwF0"
      },
      "execution_count": null,
      "outputs": []
    },
    {
      "cell_type": "code",
      "source": [
        "#Building recommender system\n",
        "def recommend(book_name):\n",
        "    # index fetch\n",
        "    index = np.where(pt.index==book_name)[0][0]\n",
        "    similar_items = sorted(list(enumerate(similarity_scores[index])),key=lambda x:x[1],reverse=True)[1:5]\n",
        "    \n",
        "    data = []\n",
        "    for i in similar_items:\n",
        "        item = []\n",
        "        temp_df = df_books[df_books['Book-Title'] == pt.index[i[0]]]\n",
        "        item.extend(list(temp_df.drop_duplicates('Book-Title')['Book-Title'].values))\n",
        "        item.extend(list(temp_df.drop_duplicates('Book-Title')['Book-Author'].values))\n",
        "        item.extend(list(temp_df.drop_duplicates('Book-Title')['Year-Of-Publication'].values.astype(int)))\n",
        "        item.extend(list(temp_df.drop_duplicates('Book-Title')['Image-URL-M'].values))\n",
        "        \n",
        "        data.append(item)\n",
        "    \n",
        "    return data"
      ],
      "metadata": {
        "id": "L8_5iL-GWwCJ"
      },
      "execution_count": null,
      "outputs": []
    },
    {
      "cell_type": "code",
      "source": [
        "recommend('Harry Potter and the Order of the Phoenix (Book 5)')"
      ],
      "metadata": {
        "id": "9pgxfj3BXMsg"
      },
      "execution_count": null,
      "outputs": []
    },
    {
      "cell_type": "code",
      "source": [],
      "metadata": {
        "id": "Fc1aA4ETWv_G"
      },
      "execution_count": null,
      "outputs": []
    },
    {
      "cell_type": "markdown",
      "metadata": {
        "id": "qv3hseUH1v1v"
      },
      "source": [
        "## **Singular Value Decomposition**"
      ]
    },
    {
      "cell_type": "code",
      "metadata": {
        "id": "po0M694LL7Pe"
      },
      "source": [
        "from scipy.sparse.linalg import svds\n",
        "# The number of factors to factor the user-item matrix.\n",
        "NUMBER_OF_FACTORS_MF = 15\n",
        "\n",
        "#Performs matrix factorization of the original user item matrix\n",
        "U, sigma, Vt = svds(users_items_pivot_matrix, k = NUMBER_OF_FACTORS_MF)"
      ],
      "execution_count": null,
      "outputs": []
    },
    {
      "cell_type": "code",
      "metadata": {
        "id": "DBL28q0zMgWT"
      },
      "source": [
        "sigma = np.diag(sigma)\n",
        "sigma.shape"
      ],
      "execution_count": null,
      "outputs": []
    },
    {
      "cell_type": "code",
      "metadata": {
        "id": "qBHTrSCCMOP7"
      },
      "source": [
        "all_user_predicted_ratings = np.dot(np.dot(U, sigma), Vt) \n",
        "all_user_predicted_ratings"
      ],
      "execution_count": null,
      "outputs": []
    },
    {
      "cell_type": "code",
      "metadata": {
        "id": "E3qmj9XzMaEe"
      },
      "source": [
        "#Converting the reconstructed matrix back to a Pandas dataframe\n",
        "cf_preds_df = pd.DataFrame(all_user_predicted_ratings, columns = users_items_pivot_matrix_df.columns, index=users_ids).transpose()\n",
        "cf_preds_df.head(2)"
      ],
      "execution_count": null,
      "outputs": []
    },
    {
      "cell_type": "code",
      "metadata": {
        "id": "owfjNNnzMpYt"
      },
      "source": [
        "class CFRecommender:\n",
        "    \n",
        "    MODEL_NAME = 'Collaborative Filtering'\n",
        "    \n",
        "    def __init__(self, cf_predictions_df, items_df=None):\n",
        "        self.cf_predictions_df = cf_predictions_df\n",
        "        self.items_df = items_df\n",
        "        \n",
        "    def get_model_name(self):\n",
        "        return self.MODEL_NAME\n",
        "        \n",
        "    def recommend_items(self, user_id, items_to_ignore=[], topn=10, verbose=False):\n",
        "        # Get and sort the user's predictions\n",
        "        sorted_user_predictions = self.cf_predictions_df[user_id].sort_values(ascending=False).reset_index().rename(columns={user_id: 'recStrength'})\n",
        "\n",
        "        # Recommend the highest predicted rating content that the user hasn't seen yet.\n",
        "        recommendations_df = sorted_user_predictions[~sorted_user_predictions['Book-Title'].isin(items_to_ignore)].sort_values('recStrength', ascending = False).head(topn)\n",
        "\n",
        "        if verbose:\n",
        "            if self.items_df is None:\n",
        "                raise Exception('\"items_df\" is required in verbose mode')\n",
        "\n",
        "            recommendations_df = recommendations_df.merge(self.items_df, how = 'left', \n",
        "                                                          left_on = 'Book-Title', \n",
        "                                                          right_on = 'Book-Title')[['recStrength','Book-Title']]\n",
        "\n",
        "\n",
        "        return recommendations_df\n",
        "    \n",
        "cf_recommender_model = CFRecommender(cf_preds_df, items_df=df_merged_updated)"
      ],
      "execution_count": null,
      "outputs": []
    },
    {
      "cell_type": "code",
      "metadata": {
        "id": "BmfVsodHM9ZD"
      },
      "source": [
        "#Indexing by personId to speed up the searches during evaluation\n",
        "interactions_full_indexed_df = interactions_full_df.set_index('User-ID')\n",
        "interactions_train_indexed_df = interactions_train_df.set_index('User-ID')\n",
        "interactions_test_indexed_df = interactions_test_df.set_index('User-ID')"
      ],
      "execution_count": null,
      "outputs": []
    },
    {
      "cell_type": "code",
      "metadata": {
        "id": "juPqXQ7pzz-i"
      },
      "source": [
        "interactions_test_indexed_df.head()"
      ],
      "execution_count": null,
      "outputs": []
    },
    {
      "cell_type": "code",
      "metadata": {
        "id": "wLpQsKm9NJ2i"
      },
      "source": [
        "def get_items_interacted(person_id, interactions_df):\n",
        "    interacted_items = interactions_df.loc[person_id]['Book-Title']\n",
        "    return set(interacted_items if type(interacted_items) == pd.Series else [interacted_items])"
      ],
      "execution_count": null,
      "outputs": []
    },
    {
      "cell_type": "code",
      "metadata": {
        "id": "gIHGf6B6NLNd"
      },
      "source": [
        "#Top-N accuracy metrics consts\n",
        "EVAL_RANDOM_SAMPLE_NON_INTERACTED_ITEMS = 100\n",
        "\n",
        "class ModelEvaluator:\n",
        "\n",
        "    # Function for getting the set of items which a user has not interacted with\n",
        "    def get_not_interacted_items_sample(self, person_id, sample_size, seed=42):\n",
        "        interacted_items = get_items_interacted(person_id, interactions_full_indexed_df)\n",
        "        all_items = set(df_merged_updated['Book-Title'])\n",
        "        non_interacted_items = all_items - interacted_items\n",
        "\n",
        "        random.seed(seed)\n",
        "        non_interacted_items_sample = random.sample(non_interacted_items, sample_size)\n",
        "        return set(non_interacted_items_sample)\n",
        "\n",
        "    # Function to verify whether a particular item_id was present in the set of top N recommended items\n",
        "    def _verify_hit_top_n(self, item_id, recommended_items, topn):        \n",
        "            try:\n",
        "                index = next(i for i, c in enumerate(recommended_items) if c == item_id)\n",
        "            except:\n",
        "                index = -1\n",
        "            hit = int(index in range(0, topn))\n",
        "            return hit, index\n",
        "    \n",
        "    # Function to evaluate the performance of model for each user\n",
        "    def evaluate_model_for_user(self, model, person_id):\n",
        "        \n",
        "        # Getting the items in test set\n",
        "        interacted_values_testset = interactions_test_indexed_df.loc[person_id]\n",
        "        \n",
        "        if type(interacted_values_testset['Book-Title']) == pd.Series:\n",
        "            person_interacted_items_testset = set(interacted_values_testset['Book-Title'])\n",
        "        else:\n",
        "            person_interacted_items_testset = set([int(interacted_values_testset['Book-Title'])])\n",
        "            \n",
        "        interacted_items_count_testset = len(person_interacted_items_testset) \n",
        "\n",
        "        # Getting a ranked recommendation list from the model for a given user\n",
        "        person_recs_df = model.recommend_items(person_id, items_to_ignore=get_items_interacted(person_id, interactions_train_indexed_df),topn=10000000000)\n",
        "\n",
        "        hits_at_5_count = 0\n",
        "        hits_at_10_count = 0\n",
        "        \n",
        "        # For each item the user has interacted in test set\n",
        "        for item_id in person_interacted_items_testset:\n",
        "            \n",
        "            # Getting a random sample of 100 items the user has not interacted with\n",
        "            non_interacted_items_sample = self.get_not_interacted_items_sample(person_id, sample_size=EVAL_RANDOM_SAMPLE_NON_INTERACTED_ITEMS, seed=item_id%2)\n",
        "\n",
        "            # Combining the current interacted item with the 100 random items\n",
        "            items_to_filter_recs = non_interacted_items_sample.union(set([item_id]))\n",
        "\n",
        "            # Filtering only recommendations that are either the interacted item or from a random sample of 100 non-interacted items\n",
        "            valid_recs_df = person_recs_df[person_recs_df['Book-Title'].isin(items_to_filter_recs)]                    \n",
        "            valid_recs = valid_recs_df['Book-Title'].values\n",
        "            \n",
        "            # Verifying if the current interacted item is among the Top-N recommended items\n",
        "            hit_at_5, index_at_5 = self._verify_hit_top_n(item_id, valid_recs, 5)\n",
        "            hits_at_5_count += hit_at_5\n",
        "            hit_at_10, index_at_10 = self._verify_hit_top_n(item_id, valid_recs, 10)\n",
        "            hits_at_10_count += hit_at_10\n",
        "\n",
        "        # Recall is the rate of the interacted items that are ranked among the Top-N recommended items\n",
        "        recall_at_5 = hits_at_5_count / float(interacted_items_count_testset)\n",
        "        recall_at_10 = hits_at_10_count / float(interacted_items_count_testset)\n",
        "\n",
        "        person_metrics = {'hits@5_count':hits_at_5_count, \n",
        "                          'hits@10_count':hits_at_10_count, \n",
        "                          'interacted_count': interacted_items_count_testset,\n",
        "                          'recall@5': recall_at_5,\n",
        "                          'recall@10': recall_at_10}\n",
        "        return person_metrics\n",
        "\n",
        "    \n",
        "    # Function to evaluate the performance of model at overall level\n",
        "    def evaluate_model(self, model):\n",
        "        \n",
        "        people_metrics = []\n",
        "        \n",
        "        for idx, person_id in enumerate(list(interactions_test_indexed_df.index.unique().values)):    \n",
        "            person_metrics = self.evaluate_model_for_user(model, person_id)  \n",
        "            person_metrics['_person_id'] = person_id\n",
        "            people_metrics.append(person_metrics)\n",
        "            \n",
        "        print('%d users processed' % idx)\n",
        "\n",
        "        detailed_results_df = pd.DataFrame(people_metrics).sort_values('interacted_count', ascending=False)\n",
        "        \n",
        "        global_recall_at_5 = detailed_results_df['hits@5_count'].sum() / float(detailed_results_df['interacted_count'].sum())\n",
        "        global_recall_at_10 = detailed_results_df['hits@10_count'].sum() / float(detailed_results_df['interacted_count'].sum())\n",
        "        \n",
        "        global_metrics = {'modelName': model.get_model_name(),\n",
        "                          'recall@5': global_recall_at_5,\n",
        "                          'recall@10': global_recall_at_10}    \n",
        "        return global_metrics, detailed_results_df\n",
        "    \n",
        "model_evaluator = ModelEvaluator() "
      ],
      "execution_count": null,
      "outputs": []
    },
    {
      "cell_type": "code",
      "metadata": {
        "id": "NYu1V3rINcWL"
      },
      "source": [
        "print('Evaluating Collaborative Filtering (SVD Matrix Factorization) model...')\n",
        "cf_global_metrics, cf_detailed_results_df = model_evaluator.evaluate_model(cf_recommender_model)\n",
        "\n",
        "print('\\nGlobal metrics:\\n%s' % cf_global_metrics)\n",
        "cf_detailed_results_df.head(10)"
      ],
      "execution_count": null,
      "outputs": []
    },
    {
      "cell_type": "markdown",
      "metadata": {
        "id": "4khrg-Qi_K6e"
      },
      "source": [
        "### We have obtained \n",
        "###● **Recall@5: 99%**\n",
        "###● **Recall@10: 99%**"
      ]
    },
    {
      "cell_type": "markdown",
      "metadata": {
        "id": "THrkYkoR2dix"
      },
      "source": [
        "## Checking the output of Our Recommender"
      ]
    },
    {
      "cell_type": "code",
      "metadata": {
        "id": "EQ2JYHLSh5Sl"
      },
      "source": [
        "recc = cf_recommender_model.recommend_items(40943)\n",
        "recc = le.inverse_transform(recc['Book-Title'])\n",
        "recc"
      ],
      "execution_count": null,
      "outputs": []
    },
    {
      "cell_type": "code",
      "metadata": {
        "id": "Ftbt2r8F7S3k"
      },
      "source": [
        "df_merged_updated[df_merged_updated['User-ID']==40943].head()"
      ],
      "execution_count": null,
      "outputs": []
    },
    {
      "cell_type": "markdown",
      "metadata": {
        "id": "nnLO8r2IEere"
      },
      "source": [
        "* ## We can see, the user: **40943**, has rated **Sisterhood of the Traveling Pants**, very highly. Our model, is recommending other parts of the same series. This seems to be consistent with high precision and high recall values that we have obtained thus far."
      ]
    },
    {
      "cell_type": "markdown",
      "source": [
        "# **Exporting Data through pickle for creating webpage**"
      ],
      "metadata": {
        "id": "LXAy_hT3ZrKU"
      }
    },
    {
      "cell_type": "code",
      "source": [
        "import pickle\n",
        "pickle.dump(popular_df,open('popular.pkl','wb'))"
      ],
      "metadata": {
        "id": "GOeatChlZthH"
      },
      "execution_count": null,
      "outputs": []
    },
    {
      "cell_type": "code",
      "source": [
        "df_books.drop_duplicates('Book-Title')"
      ],
      "metadata": {
        "id": "6zWSDVY4ZyoV"
      },
      "execution_count": null,
      "outputs": []
    },
    {
      "cell_type": "code",
      "source": [
        "#Exporting data for webpage\n",
        "pickle.dump(pt,open('pt.pkl','wb'))\n",
        "pickle.dump(df_books,open('books.pkl','wb'))\n",
        "pickle.dump(similarity_scores,open('similarity_scores.pkl','wb'))"
      ],
      "metadata": {
        "id": "l8--lMMNZ5gX"
      },
      "execution_count": null,
      "outputs": []
    },
    {
      "cell_type": "markdown",
      "source": [
        "# **Webpage: https://book-recommendersystem.herokuapp.com/**\n"
      ],
      "metadata": {
        "id": "SeoNuV9PvmLN"
      }
    }
  ]
}